{
 "cells": [
  {
   "cell_type": "code",
   "execution_count": 1,
   "metadata": {},
   "outputs": [],
   "source": [
    "#Direct Stiffness Method (Julia)\n",
    "#Michael Loreantz // 2022\n",
    "#Truss\n",
    "\n",
    "E = 2*10^8   #E  : Section Elastic Modulii (kPa)\n",
    "Asoal=9*10^-4\n",
    "Ael = [1 Asoal\n",
    "       2 Asoal\n",
    "       3 Asoal\n",
    "       4 Asoal\n",
    "       5 Asoal\n",
    "       6 Asoal\n",
    "       7 Asoal\n",
    "       8 Asoal\n",
    "       9 Asoal]   #A  : Cross Sectional Area, m^2\n",
    "un = 2  #un : DOFs per node\n",
    "\n",
    "#Node positioning [Node Number, X coordinate, Y coordinate]\n",
    "Node = [1 0 0\n",
    "        2 6 0\n",
    "        3 6 4\n",
    "        4 6 8\n",
    "        5 4.5 6\n",
    "        6 3 4];\n",
    "\n",
    "#Element Connectivity (Element number, i Node, j Node)\n",
    "EL = [1 1 2\n",
    "      2 2 3\n",
    "      3 3 4\n",
    "      4 4 5\n",
    "      5 5 3\n",
    "      6 3 6\n",
    "      7 6 5\n",
    "      8 2 6\n",
    "      9 6 1];\n",
    "\n",
    "#Nodal Restraints (Node Number, u, v)\n",
    "##Logical inputs: 1=Restrained, 0=No restraints\n",
    "Rest = [1 1 1\n",
    "        2 1 1];\n",
    "\n",
    "#Nodal loads (Nodal fx fy)\n",
    "fp = [4 100 0\n",
    "      5 100 0\n",
    "      6 100 0];"
   ]
  },
  {
   "cell_type": "code",
   "execution_count": 2,
   "metadata": {},
   "outputs": [
    {
     "data": {
      "image/svg+xml": "<?xml version=\"1.0\" encoding=\"utf-8\"?>\n<svg xmlns=\"http://www.w3.org/2000/svg\" xmlns:xlink=\"http://www.w3.org/1999/xlink\" width=\"600\" height=\"400\" viewBox=\"0 0 2400 1600\">\n<defs>\n  <clipPath id=\"clip160\">\n    <rect x=\"0\" y=\"0\" width=\"2400\" height=\"1600\"/>\n  </clipPath>\n</defs>\n<path clip-path=\"url(#clip160)\" d=\"\nM0 1600 L2400 1600 L2400 0 L0 0  Z\n  \" fill=\"#ffffff\" fill-rule=\"evenodd\" fill-opacity=\"1\"/>\n<defs>\n  <clipPath id=\"clip161\">\n    <rect x=\"480\" y=\"0\" width=\"1681\" height=\"1600\"/>\n  </clipPath>\n</defs>\n<path clip-path=\"url(#clip160)\" d=\"\nM112.177 1486.45 L2352.76 1486.45 L2352.76 47.2441 L112.177 47.2441  Z\n  \" fill=\"#ffffff\" fill-rule=\"evenodd\" fill-opacity=\"1\"/>\n<defs>\n  <clipPath id=\"clip162\">\n    <rect x=\"112\" y=\"47\" width=\"2242\" height=\"1440\"/>\n  </clipPath>\n</defs>\n<polyline clip-path=\"url(#clip162)\" style=\"stroke:#000000; stroke-linecap:butt; stroke-linejoin:round; stroke-width:2; stroke-opacity:0.1; fill:none\" points=\"\n  175.59,1486.45 175.59,47.2441 \n  \"/>\n<polyline clip-path=\"url(#clip162)\" style=\"stroke:#000000; stroke-linecap:butt; stroke-linejoin:round; stroke-width:2; stroke-opacity:0.1; fill:none\" points=\"\n  527.882,1486.45 527.882,47.2441 \n  \"/>\n<polyline clip-path=\"url(#clip162)\" style=\"stroke:#000000; stroke-linecap:butt; stroke-linejoin:round; stroke-width:2; stroke-opacity:0.1; fill:none\" points=\"\n  880.174,1486.45 880.174,47.2441 \n  \"/>\n<polyline clip-path=\"url(#clip162)\" style=\"stroke:#000000; stroke-linecap:butt; stroke-linejoin:round; stroke-width:2; stroke-opacity:0.1; fill:none\" points=\"\n  1232.47,1486.45 1232.47,47.2441 \n  \"/>\n<polyline clip-path=\"url(#clip162)\" style=\"stroke:#000000; stroke-linecap:butt; stroke-linejoin:round; stroke-width:2; stroke-opacity:0.1; fill:none\" points=\"\n  1584.76,1486.45 1584.76,47.2441 \n  \"/>\n<polyline clip-path=\"url(#clip162)\" style=\"stroke:#000000; stroke-linecap:butt; stroke-linejoin:round; stroke-width:2; stroke-opacity:0.1; fill:none\" points=\"\n  1937.05,1486.45 1937.05,47.2441 \n  \"/>\n<polyline clip-path=\"url(#clip162)\" style=\"stroke:#000000; stroke-linecap:butt; stroke-linejoin:round; stroke-width:2; stroke-opacity:0.1; fill:none\" points=\"\n  2289.34,1486.45 2289.34,47.2441 \n  \"/>\n<polyline clip-path=\"url(#clip160)\" style=\"stroke:#000000; stroke-linecap:butt; stroke-linejoin:round; stroke-width:4; stroke-opacity:1; fill:none\" points=\"\n  112.177,1486.45 2352.76,1486.45 \n  \"/>\n<polyline clip-path=\"url(#clip160)\" style=\"stroke:#000000; stroke-linecap:butt; stroke-linejoin:round; stroke-width:4; stroke-opacity:1; fill:none\" points=\"\n  175.59,1486.45 175.59,1467.55 \n  \"/>\n<polyline clip-path=\"url(#clip160)\" style=\"stroke:#000000; stroke-linecap:butt; stroke-linejoin:round; stroke-width:4; stroke-opacity:1; fill:none\" points=\"\n  527.882,1486.45 527.882,1467.55 \n  \"/>\n<polyline clip-path=\"url(#clip160)\" style=\"stroke:#000000; stroke-linecap:butt; stroke-linejoin:round; stroke-width:4; stroke-opacity:1; fill:none\" points=\"\n  880.174,1486.45 880.174,1467.55 \n  \"/>\n<polyline clip-path=\"url(#clip160)\" style=\"stroke:#000000; stroke-linecap:butt; stroke-linejoin:round; stroke-width:4; stroke-opacity:1; fill:none\" points=\"\n  1232.47,1486.45 1232.47,1467.55 \n  \"/>\n<polyline clip-path=\"url(#clip160)\" style=\"stroke:#000000; stroke-linecap:butt; stroke-linejoin:round; stroke-width:4; stroke-opacity:1; fill:none\" points=\"\n  1584.76,1486.45 1584.76,1467.55 \n  \"/>\n<polyline clip-path=\"url(#clip160)\" style=\"stroke:#000000; stroke-linecap:butt; stroke-linejoin:round; stroke-width:4; stroke-opacity:1; fill:none\" points=\"\n  1937.05,1486.45 1937.05,1467.55 \n  \"/>\n<polyline clip-path=\"url(#clip160)\" style=\"stroke:#000000; stroke-linecap:butt; stroke-linejoin:round; stroke-width:4; stroke-opacity:1; fill:none\" points=\"\n  2289.34,1486.45 2289.34,1467.55 \n  \"/>\n<path clip-path=\"url(#clip160)\" d=\"M175.59 1515.64 Q171.979 1515.64 170.15 1519.2 Q168.344 1522.75 168.344 1529.87 Q168.344 1536.98 170.15 1540.55 Q171.979 1544.09 175.59 1544.09 Q179.224 1544.09 181.03 1540.55 Q182.858 1536.98 182.858 1529.87 Q182.858 1522.75 181.03 1519.2 Q179.224 1515.64 175.59 1515.64 M175.59 1511.93 Q181.4 1511.93 184.455 1516.54 Q187.534 1521.12 187.534 1529.87 Q187.534 1538.6 184.455 1543.21 Q181.4 1547.79 175.59 1547.79 Q169.78 1547.79 166.701 1543.21 Q163.645 1538.6 163.645 1529.87 Q163.645 1521.12 166.701 1516.54 Q169.78 1511.93 175.59 1511.93 Z\" fill=\"#000000\" fill-rule=\"evenodd\" fill-opacity=\"1\" /><path clip-path=\"url(#clip160)\" d=\"M518.264 1543.18 L525.903 1543.18 L525.903 1516.82 L517.593 1518.49 L517.593 1514.23 L525.857 1512.56 L530.532 1512.56 L530.532 1543.18 L538.171 1543.18 L538.171 1547.12 L518.264 1547.12 L518.264 1543.18 Z\" fill=\"#000000\" fill-rule=\"evenodd\" fill-opacity=\"1\" /><path clip-path=\"url(#clip160)\" d=\"M874.827 1543.18 L891.146 1543.18 L891.146 1547.12 L869.202 1547.12 L869.202 1543.18 Q871.864 1540.43 876.447 1535.8 Q881.054 1531.15 882.234 1529.81 Q884.48 1527.28 885.359 1525.55 Q886.262 1523.79 886.262 1522.1 Q886.262 1519.34 884.318 1517.61 Q882.396 1515.87 879.295 1515.87 Q877.096 1515.87 874.642 1516.63 Q872.211 1517.4 869.434 1518.95 L869.434 1514.23 Q872.258 1513.09 874.711 1512.51 Q877.165 1511.93 879.202 1511.93 Q884.572 1511.93 887.767 1514.62 Q890.961 1517.31 890.961 1521.8 Q890.961 1523.93 890.151 1525.85 Q889.364 1527.74 887.258 1530.34 Q886.679 1531.01 883.577 1534.23 Q880.475 1537.42 874.827 1543.18 Z\" fill=\"#000000\" fill-rule=\"evenodd\" fill-opacity=\"1\" /><path clip-path=\"url(#clip160)\" d=\"M1236.71 1528.49 Q1240.07 1529.2 1241.95 1531.47 Q1243.84 1533.74 1243.84 1537.07 Q1243.84 1542.19 1240.33 1544.99 Q1236.81 1547.79 1230.33 1547.79 Q1228.15 1547.79 1225.83 1547.35 Q1223.54 1546.93 1221.09 1546.08 L1221.09 1541.56 Q1223.03 1542.7 1225.35 1543.28 Q1227.66 1543.86 1230.19 1543.86 Q1234.58 1543.86 1236.88 1542.12 Q1239.19 1540.38 1239.19 1537.07 Q1239.19 1534.02 1237.04 1532.31 Q1234.91 1530.57 1231.09 1530.57 L1227.06 1530.57 L1227.06 1526.73 L1231.27 1526.73 Q1234.72 1526.73 1236.55 1525.36 Q1238.38 1523.97 1238.38 1521.38 Q1238.38 1518.72 1236.48 1517.31 Q1234.61 1515.87 1231.09 1515.87 Q1229.17 1515.87 1226.97 1516.29 Q1224.77 1516.7 1222.13 1517.58 L1222.13 1513.42 Q1224.79 1512.68 1227.11 1512.31 Q1229.45 1511.93 1231.51 1511.93 Q1236.83 1511.93 1239.93 1514.37 Q1243.03 1516.77 1243.03 1520.89 Q1243.03 1523.76 1241.39 1525.75 Q1239.75 1527.72 1236.71 1528.49 Z\" fill=\"#000000\" fill-rule=\"evenodd\" fill-opacity=\"1\" /><path clip-path=\"url(#clip160)\" d=\"M1587.77 1516.63 L1575.96 1535.08 L1587.77 1535.08 L1587.77 1516.63 M1586.54 1512.56 L1592.42 1512.56 L1592.42 1535.08 L1597.35 1535.08 L1597.35 1538.97 L1592.42 1538.97 L1592.42 1547.12 L1587.77 1547.12 L1587.77 1538.97 L1572.17 1538.97 L1572.17 1534.46 L1586.54 1512.56 Z\" fill=\"#000000\" fill-rule=\"evenodd\" fill-opacity=\"1\" /><path clip-path=\"url(#clip160)\" d=\"M1927.33 1512.56 L1945.69 1512.56 L1945.69 1516.5 L1931.61 1516.5 L1931.61 1524.97 Q1932.63 1524.62 1933.65 1524.46 Q1934.67 1524.27 1935.69 1524.27 Q1941.47 1524.27 1944.85 1527.44 Q1948.23 1530.62 1948.23 1536.03 Q1948.23 1541.61 1944.76 1544.71 Q1941.29 1547.79 1934.97 1547.79 Q1932.79 1547.79 1930.52 1547.42 Q1928.28 1547.05 1925.87 1546.31 L1925.87 1541.61 Q1927.95 1542.74 1930.18 1543.3 Q1932.4 1543.86 1934.88 1543.86 Q1938.88 1543.86 1941.22 1541.75 Q1943.56 1539.64 1943.56 1536.03 Q1943.56 1532.42 1941.22 1530.31 Q1938.88 1528.21 1934.88 1528.21 Q1933 1528.21 1931.13 1528.62 Q1929.27 1529.04 1927.33 1529.92 L1927.33 1512.56 Z\" fill=\"#000000\" fill-rule=\"evenodd\" fill-opacity=\"1\" /><path clip-path=\"url(#clip160)\" d=\"M2289.75 1527.98 Q2286.6 1527.98 2284.75 1530.13 Q2282.92 1532.28 2282.92 1536.03 Q2282.92 1539.76 2284.75 1541.93 Q2286.6 1544.09 2289.75 1544.09 Q2292.9 1544.09 2294.73 1541.93 Q2296.58 1539.76 2296.58 1536.03 Q2296.58 1532.28 2294.73 1530.13 Q2292.9 1527.98 2289.75 1527.98 M2299.03 1513.32 L2299.03 1517.58 Q2297.27 1516.75 2295.47 1516.31 Q2293.68 1515.87 2291.92 1515.87 Q2287.29 1515.87 2284.84 1519 Q2282.41 1522.12 2282.06 1528.44 Q2283.43 1526.43 2285.49 1525.36 Q2287.55 1524.27 2290.03 1524.27 Q2295.23 1524.27 2298.24 1527.44 Q2301.28 1530.59 2301.28 1536.03 Q2301.28 1541.36 2298.13 1544.57 Q2294.98 1547.79 2289.75 1547.79 Q2283.75 1547.79 2280.58 1543.21 Q2277.41 1538.6 2277.41 1529.87 Q2277.41 1521.68 2281.3 1516.82 Q2285.19 1511.93 2291.74 1511.93 Q2293.5 1511.93 2295.28 1512.28 Q2297.09 1512.63 2299.03 1513.32 Z\" fill=\"#000000\" fill-rule=\"evenodd\" fill-opacity=\"1\" /><polyline clip-path=\"url(#clip162)\" style=\"stroke:#000000; stroke-linecap:butt; stroke-linejoin:round; stroke-width:2; stroke-opacity:0.1; fill:none\" points=\"\n  112.177,1445.72 2352.76,1445.72 \n  \"/>\n<polyline clip-path=\"url(#clip162)\" style=\"stroke:#000000; stroke-linecap:butt; stroke-linejoin:round; stroke-width:2; stroke-opacity:0.1; fill:none\" points=\"\n  112.177,1106.28 2352.76,1106.28 \n  \"/>\n<polyline clip-path=\"url(#clip162)\" style=\"stroke:#000000; stroke-linecap:butt; stroke-linejoin:round; stroke-width:2; stroke-opacity:0.1; fill:none\" points=\"\n  112.177,766.846 2352.76,766.846 \n  \"/>\n<polyline clip-path=\"url(#clip162)\" style=\"stroke:#000000; stroke-linecap:butt; stroke-linejoin:round; stroke-width:2; stroke-opacity:0.1; fill:none\" points=\"\n  112.177,427.411 2352.76,427.411 \n  \"/>\n<polyline clip-path=\"url(#clip162)\" style=\"stroke:#000000; stroke-linecap:butt; stroke-linejoin:round; stroke-width:2; stroke-opacity:0.1; fill:none\" points=\"\n  112.177,87.9763 2352.76,87.9763 \n  \"/>\n<polyline clip-path=\"url(#clip160)\" style=\"stroke:#000000; stroke-linecap:butt; stroke-linejoin:round; stroke-width:4; stroke-opacity:1; fill:none\" points=\"\n  112.177,1486.45 112.177,47.2441 \n  \"/>\n<polyline clip-path=\"url(#clip160)\" style=\"stroke:#000000; stroke-linecap:butt; stroke-linejoin:round; stroke-width:4; stroke-opacity:1; fill:none\" points=\"\n  112.177,1445.72 131.075,1445.72 \n  \"/>\n<polyline clip-path=\"url(#clip160)\" style=\"stroke:#000000; stroke-linecap:butt; stroke-linejoin:round; stroke-width:4; stroke-opacity:1; fill:none\" points=\"\n  112.177,1106.28 131.075,1106.28 \n  \"/>\n<polyline clip-path=\"url(#clip160)\" style=\"stroke:#000000; stroke-linecap:butt; stroke-linejoin:round; stroke-width:4; stroke-opacity:1; fill:none\" points=\"\n  112.177,766.846 131.075,766.846 \n  \"/>\n<polyline clip-path=\"url(#clip160)\" style=\"stroke:#000000; stroke-linecap:butt; stroke-linejoin:round; stroke-width:4; stroke-opacity:1; fill:none\" points=\"\n  112.177,427.411 131.075,427.411 \n  \"/>\n<polyline clip-path=\"url(#clip160)\" style=\"stroke:#000000; stroke-linecap:butt; stroke-linejoin:round; stroke-width:4; stroke-opacity:1; fill:none\" points=\"\n  112.177,87.9763 131.075,87.9763 \n  \"/>\n<path clip-path=\"url(#clip160)\" d=\"M64.2328 1431.51 Q60.6217 1431.51 58.793 1435.08 Q56.9875 1438.62 56.9875 1445.75 Q56.9875 1452.86 58.793 1456.42 Q60.6217 1459.96 64.2328 1459.96 Q67.867 1459.96 69.6726 1456.42 Q71.5013 1452.86 71.5013 1445.75 Q71.5013 1438.62 69.6726 1435.08 Q67.867 1431.51 64.2328 1431.51 M64.2328 1427.81 Q70.0429 1427.81 73.0985 1432.42 Q76.1772 1437 76.1772 1445.75 Q76.1772 1454.48 73.0985 1459.08 Q70.0429 1463.67 64.2328 1463.67 Q58.4226 1463.67 55.344 1459.08 Q52.2884 1454.48 52.2884 1445.75 Q52.2884 1437 55.344 1432.42 Q58.4226 1427.81 64.2328 1427.81 Z\" fill=\"#000000\" fill-rule=\"evenodd\" fill-opacity=\"1\" /><path clip-path=\"url(#clip160)\" d=\"M59.8578 1119.63 L76.1772 1119.63 L76.1772 1123.56 L54.2328 1123.56 L54.2328 1119.63 Q56.8949 1116.87 61.4782 1112.24 Q66.0846 1107.59 67.2652 1106.25 Q69.5105 1103.72 70.3902 1101.99 Q71.2929 1100.23 71.2929 1098.54 Q71.2929 1095.78 69.3485 1094.05 Q67.4272 1092.31 64.3254 1092.31 Q62.1263 1092.31 59.6726 1093.07 Q57.2421 1093.84 54.4643 1095.39 L54.4643 1090.67 Q57.2884 1089.53 59.7421 1088.95 Q62.1958 1088.38 64.2328 1088.38 Q69.6031 1088.38 72.7976 1091.06 Q75.992 1093.75 75.992 1098.24 Q75.992 1100.37 75.1818 1102.29 Q74.3948 1104.19 72.2883 1106.78 Q71.7096 1107.45 68.6078 1110.67 Q65.5059 1113.86 59.8578 1119.63 Z\" fill=\"#000000\" fill-rule=\"evenodd\" fill-opacity=\"1\" /><path clip-path=\"url(#clip160)\" d=\"M66.5939 753.64 L54.7884 772.089 L66.5939 772.089 L66.5939 753.64 M65.367 749.566 L71.2466 749.566 L71.2466 772.089 L76.1772 772.089 L76.1772 775.978 L71.2466 775.978 L71.2466 784.126 L66.5939 784.126 L66.5939 775.978 L50.9921 775.978 L50.9921 771.464 L65.367 749.566 Z\" fill=\"#000000\" fill-rule=\"evenodd\" fill-opacity=\"1\" /><path clip-path=\"url(#clip160)\" d=\"M64.6495 425.548 Q61.5013 425.548 59.6495 427.7 Q57.8208 429.853 57.8208 433.603 Q57.8208 437.33 59.6495 439.506 Q61.5013 441.659 64.6495 441.659 Q67.7976 441.659 69.6263 439.506 Q71.4781 437.33 71.4781 433.603 Q71.4781 429.853 69.6263 427.7 Q67.7976 425.548 64.6495 425.548 M73.9318 410.895 L73.9318 415.154 Q72.1726 414.321 70.367 413.881 Q68.5846 413.441 66.8254 413.441 Q62.1958 413.441 59.7421 416.566 Q57.3115 419.691 56.9643 426.011 Q58.33 423.997 60.3902 422.932 Q62.4504 421.844 64.9272 421.844 Q70.1355 421.844 73.1448 425.015 Q76.1772 428.163 76.1772 433.603 Q76.1772 438.927 73.029 442.145 Q69.8809 445.362 64.6495 445.362 Q58.6541 445.362 55.4828 440.779 Q52.3116 436.173 52.3116 427.446 Q52.3116 419.251 56.2004 414.39 Q60.0893 409.506 66.6402 409.506 Q68.3994 409.506 70.1818 409.853 Q71.9874 410.201 73.9318 410.895 Z\" fill=\"#000000\" fill-rule=\"evenodd\" fill-opacity=\"1\" /><path clip-path=\"url(#clip160)\" d=\"M64.3254 88.8443 Q60.9921 88.8443 59.0708 90.6267 Q57.1726 92.4091 57.1726 95.5341 Q57.1726 98.6591 59.0708 100.441 Q60.9921 102.224 64.3254 102.224 Q67.6587 102.224 69.58 100.441 Q71.5013 98.6359 71.5013 95.5341 Q71.5013 92.4091 69.58 90.6267 Q67.6819 88.8443 64.3254 88.8443 M59.6495 86.8536 Q56.6402 86.1129 54.9504 84.0527 Q53.2838 81.9925 53.2838 79.0296 Q53.2838 74.8861 56.2236 72.4787 Q59.1865 70.0713 64.3254 70.0713 Q69.4874 70.0713 72.4272 72.4787 Q75.367 74.8861 75.367 79.0296 Q75.367 81.9925 73.6772 84.0527 Q72.0105 86.1129 69.0244 86.8536 Q72.404 87.6406 74.279 89.9323 Q76.1772 92.2239 76.1772 95.5341 Q76.1772 100.557 73.0985 103.242 Q70.0429 105.928 64.3254 105.928 Q58.6078 105.928 55.5291 103.242 Q52.4736 100.557 52.4736 95.5341 Q52.4736 92.2239 54.3717 89.9323 Q56.2699 87.6406 59.6495 86.8536 M57.9365 79.4694 Q57.9365 82.1545 59.6032 83.6592 Q61.293 85.1638 64.3254 85.1638 Q67.3346 85.1638 69.0244 83.6592 Q70.7374 82.1545 70.7374 79.4694 Q70.7374 76.7842 69.0244 75.2796 Q67.3346 73.775 64.3254 73.775 Q61.293 73.775 59.6032 75.2796 Q57.9365 76.7842 57.9365 79.4694 Z\" fill=\"#000000\" fill-rule=\"evenodd\" fill-opacity=\"1\" /><polyline clip-path=\"url(#clip162)\" style=\"stroke:#ff0000; stroke-linecap:butt; stroke-linejoin:round; stroke-width:12; stroke-opacity:1; fill:none\" points=\"\n  175.59,1445.72 2289.34,1445.72 \n  \"/>\n<polyline clip-path=\"url(#clip162)\" style=\"stroke:#ff0000; stroke-linecap:butt; stroke-linejoin:round; stroke-width:12; stroke-opacity:1; fill:none\" points=\"\n  2289.34,1445.72 2289.34,766.846 \n  \"/>\n<polyline clip-path=\"url(#clip162)\" style=\"stroke:#ff0000; stroke-linecap:butt; stroke-linejoin:round; stroke-width:12; stroke-opacity:1; fill:none\" points=\"\n  2289.34,766.846 2289.34,87.9763 \n  \"/>\n<polyline clip-path=\"url(#clip162)\" style=\"stroke:#ff0000; stroke-linecap:butt; stroke-linejoin:round; stroke-width:12; stroke-opacity:1; fill:none\" points=\"\n  2289.34,87.9763 1760.9,427.411 \n  \"/>\n<polyline clip-path=\"url(#clip162)\" style=\"stroke:#ff0000; stroke-linecap:butt; stroke-linejoin:round; stroke-width:12; stroke-opacity:1; fill:none\" points=\"\n  1760.9,427.411 2289.34,766.846 \n  \"/>\n<polyline clip-path=\"url(#clip162)\" style=\"stroke:#ff0000; stroke-linecap:butt; stroke-linejoin:round; stroke-width:12; stroke-opacity:1; fill:none\" points=\"\n  2289.34,766.846 1232.47,766.846 \n  \"/>\n<polyline clip-path=\"url(#clip162)\" style=\"stroke:#ff0000; stroke-linecap:butt; stroke-linejoin:round; stroke-width:12; stroke-opacity:1; fill:none\" points=\"\n  1232.47,766.846 1760.9,427.411 \n  \"/>\n<polyline clip-path=\"url(#clip162)\" style=\"stroke:#ff0000; stroke-linecap:butt; stroke-linejoin:round; stroke-width:12; stroke-opacity:1; fill:none\" points=\"\n  2289.34,1445.72 1232.47,766.846 \n  \"/>\n<polyline clip-path=\"url(#clip162)\" style=\"stroke:#ff0000; stroke-linecap:butt; stroke-linejoin:round; stroke-width:12; stroke-opacity:1; fill:none\" points=\"\n  1232.47,766.846 175.59,1445.72 \n  \"/>\n</svg>\n"
     },
     "metadata": {},
     "output_type": "display_data"
    }
   ],
   "source": [
    "import Pkg\n",
    "#Pkg.add(\"Plots\")                #Note: Erase the \"#\" if error shows up\n",
    "using Plots\n",
    "inodes=Node[:,2]\n",
    "jnodes=Node[:,3]\n",
    "\n",
    "for g in 1:size(EL,1)\n",
    "xcoord=[inodes[EL[g,2]],inodes[EL[g,3]]]\n",
    "ycoord=[jnodes[EL[g,2]],jnodes[EL[g,3]]]\n",
    "p=plot!(xcoord,ycoord,color=:red, legend=false,lw=3)\n",
    "\n",
    "    if g==size(EL,1)\n",
    "    display(p)\n",
    "    end\n",
    "end"
   ]
  },
  {
   "cell_type": "code",
   "execution_count": 3,
   "metadata": {},
   "outputs": [
    {
     "data": {
      "text/plain": [
       "TrussStiffness (generic function with 1 method)"
      ]
     },
     "execution_count": 3,
     "metadata": {},
     "output_type": "execute_result"
    }
   ],
   "source": [
    "#Truss Stiffness\n",
    "function TrussStiffness(E,A,L,c,s)\n",
    "E*A/L*[c^2 c*s -c^2 -c*s\n",
    "       c*s s^2 -c*s -s^2\n",
    "       -c^2 -c*s c^2 c*s\n",
    "       -c*s -s^2 c*s s^2];\n",
    "    end"
   ]
  },
  {
   "cell_type": "code",
   "execution_count": 13,
   "metadata": {},
   "outputs": [
    {
     "data": {
      "text/plain": [
       "1"
      ]
     },
     "metadata": {},
     "output_type": "display_data"
    },
    {
     "data": {
      "text/plain": [
       "4×4 Matrix{Float64}:\n",
       "  30000.0   0.0  -30000.0  -0.0\n",
       "      0.0   0.0      -0.0  -0.0\n",
       " -30000.0  -0.0   30000.0   0.0\n",
       "     -0.0  -0.0       0.0   0.0"
      ]
     },
     "metadata": {},
     "output_type": "display_data"
    },
    {
     "data": {
      "text/plain": [
       "12×12 Matrix{Float64}:\n",
       "  30000.0  0.0  -30000.0  0.0  0.0  0.0  0.0  0.0  0.0  0.0  0.0  0.0\n",
       "      0.0  0.0       0.0  0.0  0.0  0.0  0.0  0.0  0.0  0.0  0.0  0.0\n",
       " -30000.0  0.0   30000.0  0.0  0.0  0.0  0.0  0.0  0.0  0.0  0.0  0.0\n",
       "      0.0  0.0       0.0  0.0  0.0  0.0  0.0  0.0  0.0  0.0  0.0  0.0\n",
       "      0.0  0.0       0.0  0.0  0.0  0.0  0.0  0.0  0.0  0.0  0.0  0.0\n",
       "      0.0  0.0       0.0  0.0  0.0  0.0  0.0  0.0  0.0  0.0  0.0  0.0\n",
       "      0.0  0.0       0.0  0.0  0.0  0.0  0.0  0.0  0.0  0.0  0.0  0.0\n",
       "      0.0  0.0       0.0  0.0  0.0  0.0  0.0  0.0  0.0  0.0  0.0  0.0\n",
       "      0.0  0.0       0.0  0.0  0.0  0.0  0.0  0.0  0.0  0.0  0.0  0.0\n",
       "      0.0  0.0       0.0  0.0  0.0  0.0  0.0  0.0  0.0  0.0  0.0  0.0\n",
       "      0.0  0.0       0.0  0.0  0.0  0.0  0.0  0.0  0.0  0.0  0.0  0.0\n",
       "      0.0  0.0       0.0  0.0  0.0  0.0  0.0  0.0  0.0  0.0  0.0  0.0"
      ]
     },
     "metadata": {},
     "output_type": "display_data"
    },
    {
     "data": {
      "text/plain": [
       "2"
      ]
     },
     "metadata": {},
     "output_type": "display_data"
    },
    {
     "data": {
      "text/plain": [
       "4×4 Matrix{Float64}:\n",
       "  0.0       0.0  -0.0      -0.0\n",
       "  0.0   45000.0  -0.0  -45000.0\n",
       " -0.0      -0.0   0.0       0.0\n",
       " -0.0  -45000.0   0.0   45000.0"
      ]
     },
     "metadata": {},
     "output_type": "display_data"
    },
    {
     "data": {
      "text/plain": [
       "12×12 Matrix{Float64}:\n",
       "  30000.0  0.0  -30000.0       0.0  0.0  …  0.0  0.0  0.0  0.0  0.0  0.0\n",
       "      0.0  0.0       0.0       0.0  0.0     0.0  0.0  0.0  0.0  0.0  0.0\n",
       " -30000.0  0.0   30000.0       0.0  0.0     0.0  0.0  0.0  0.0  0.0  0.0\n",
       "      0.0  0.0       0.0   45000.0  0.0     0.0  0.0  0.0  0.0  0.0  0.0\n",
       "      0.0  0.0       0.0       0.0  0.0     0.0  0.0  0.0  0.0  0.0  0.0\n",
       "      0.0  0.0       0.0  -45000.0  0.0  …  0.0  0.0  0.0  0.0  0.0  0.0\n",
       "      0.0  0.0       0.0       0.0  0.0     0.0  0.0  0.0  0.0  0.0  0.0\n",
       "      0.0  0.0       0.0       0.0  0.0     0.0  0.0  0.0  0.0  0.0  0.0\n",
       "      0.0  0.0       0.0       0.0  0.0     0.0  0.0  0.0  0.0  0.0  0.0\n",
       "      0.0  0.0       0.0       0.0  0.0     0.0  0.0  0.0  0.0  0.0  0.0\n",
       "      0.0  0.0       0.0       0.0  0.0  …  0.0  0.0  0.0  0.0  0.0  0.0\n",
       "      0.0  0.0       0.0       0.0  0.0     0.0  0.0  0.0  0.0  0.0  0.0"
      ]
     },
     "metadata": {},
     "output_type": "display_data"
    },
    {
     "data": {
      "text/plain": [
       "3"
      ]
     },
     "metadata": {},
     "output_type": "display_data"
    },
    {
     "data": {
      "text/plain": [
       "4×4 Matrix{Float64}:\n",
       "  0.0       0.0  -0.0      -0.0\n",
       "  0.0   45000.0  -0.0  -45000.0\n",
       " -0.0      -0.0   0.0       0.0\n",
       " -0.0  -45000.0   0.0   45000.0"
      ]
     },
     "metadata": {},
     "output_type": "display_data"
    },
    {
     "data": {
      "text/plain": [
       "12×12 Matrix{Float64}:\n",
       "  30000.0  0.0  -30000.0       0.0  0.0  …  0.0       0.0  0.0  0.0  0.0  0.0\n",
       "      0.0  0.0       0.0       0.0  0.0     0.0       0.0  0.0  0.0  0.0  0.0\n",
       " -30000.0  0.0   30000.0       0.0  0.0     0.0       0.0  0.0  0.0  0.0  0.0\n",
       "      0.0  0.0       0.0   45000.0  0.0     0.0       0.0  0.0  0.0  0.0  0.0\n",
       "      0.0  0.0       0.0       0.0  0.0     0.0       0.0  0.0  0.0  0.0  0.0\n",
       "      0.0  0.0       0.0  -45000.0  0.0  …  0.0  -45000.0  0.0  0.0  0.0  0.0\n",
       "      0.0  0.0       0.0       0.0  0.0     0.0       0.0  0.0  0.0  0.0  0.0\n",
       "      0.0  0.0       0.0       0.0  0.0     0.0   45000.0  0.0  0.0  0.0  0.0\n",
       "      0.0  0.0       0.0       0.0  0.0     0.0       0.0  0.0  0.0  0.0  0.0\n",
       "      0.0  0.0       0.0       0.0  0.0     0.0       0.0  0.0  0.0  0.0  0.0\n",
       "      0.0  0.0       0.0       0.0  0.0  …  0.0       0.0  0.0  0.0  0.0  0.0\n",
       "      0.0  0.0       0.0       0.0  0.0     0.0       0.0  0.0  0.0  0.0  0.0"
      ]
     },
     "metadata": {},
     "output_type": "display_data"
    },
    {
     "data": {
      "text/plain": [
       "4"
      ]
     },
     "metadata": {},
     "output_type": "display_data"
    },
    {
     "data": {
      "text/plain": [
       "4×4 Matrix{Float64}:\n",
       "  25920.0   34560.0  -25920.0  -34560.0\n",
       "  34560.0   46080.0  -34560.0  -46080.0\n",
       " -25920.0  -34560.0   25920.0   34560.0\n",
       " -34560.0  -46080.0   34560.0   46080.0"
      ]
     },
     "metadata": {},
     "output_type": "display_data"
    },
    {
     "data": {
      "text/plain": [
       "12×12 Matrix{Float64}:\n",
       "  30000.0  0.0  -30000.0       0.0  0.0  …       0.0       0.0  0.0  0.0\n",
       "      0.0  0.0       0.0       0.0  0.0          0.0       0.0  0.0  0.0\n",
       " -30000.0  0.0   30000.0       0.0  0.0          0.0       0.0  0.0  0.0\n",
       "      0.0  0.0       0.0   45000.0  0.0          0.0       0.0  0.0  0.0\n",
       "      0.0  0.0       0.0       0.0  0.0          0.0       0.0  0.0  0.0\n",
       "      0.0  0.0       0.0  -45000.0  0.0  …       0.0       0.0  0.0  0.0\n",
       "      0.0  0.0       0.0       0.0  0.0     -25920.0  -34560.0  0.0  0.0\n",
       "      0.0  0.0       0.0       0.0  0.0     -34560.0  -46080.0  0.0  0.0\n",
       "      0.0  0.0       0.0       0.0  0.0      25920.0   34560.0  0.0  0.0\n",
       "      0.0  0.0       0.0       0.0  0.0      34560.0   46080.0  0.0  0.0\n",
       "      0.0  0.0       0.0       0.0  0.0  …       0.0       0.0  0.0  0.0\n",
       "      0.0  0.0       0.0       0.0  0.0          0.0       0.0  0.0  0.0"
      ]
     },
     "metadata": {},
     "output_type": "display_data"
    },
    {
     "data": {
      "text/plain": [
       "5"
      ]
     },
     "metadata": {},
     "output_type": "display_data"
    },
    {
     "data": {
      "text/plain": [
       "4×4 Matrix{Float64}:\n",
       "  25920.0  -34560.0  -25920.0   34560.0\n",
       " -34560.0   46080.0   34560.0  -46080.0\n",
       " -25920.0   34560.0   25920.0  -34560.0\n",
       "  34560.0  -46080.0  -34560.0   46080.0"
      ]
     },
     "metadata": {},
     "output_type": "display_data"
    },
    {
     "data": {
      "text/plain": [
       "12×12 Matrix{Float64}:\n",
       "  30000.0  0.0  -30000.0       0.0       0.0  …       0.0       0.0  0.0  0.0\n",
       "      0.0  0.0       0.0       0.0       0.0          0.0       0.0  0.0  0.0\n",
       " -30000.0  0.0   30000.0       0.0       0.0          0.0       0.0  0.0  0.0\n",
       "      0.0  0.0       0.0   45000.0       0.0          0.0       0.0  0.0  0.0\n",
       "      0.0  0.0       0.0       0.0   25920.0     -25920.0   34560.0  0.0  0.0\n",
       "      0.0  0.0       0.0  -45000.0  -34560.0  …   34560.0  -46080.0  0.0  0.0\n",
       "      0.0  0.0       0.0       0.0       0.0     -25920.0  -34560.0  0.0  0.0\n",
       "      0.0  0.0       0.0       0.0       0.0     -34560.0  -46080.0  0.0  0.0\n",
       "      0.0  0.0       0.0       0.0  -25920.0      51840.0       0.0  0.0  0.0\n",
       "      0.0  0.0       0.0       0.0   34560.0          0.0   92160.0  0.0  0.0\n",
       "      0.0  0.0       0.0       0.0       0.0  …       0.0       0.0  0.0  0.0\n",
       "      0.0  0.0       0.0       0.0       0.0          0.0       0.0  0.0  0.0"
      ]
     },
     "metadata": {},
     "output_type": "display_data"
    },
    {
     "data": {
      "text/plain": [
       "6"
      ]
     },
     "metadata": {},
     "output_type": "display_data"
    },
    {
     "data": {
      "text/plain": [
       "4×4 Matrix{Float64}:\n",
       "  60000.0  -0.0  -60000.0   0.0\n",
       "     -0.0   0.0       0.0  -0.0\n",
       " -60000.0   0.0   60000.0  -0.0\n",
       "      0.0  -0.0      -0.0   0.0"
      ]
     },
     "metadata": {},
     "output_type": "display_data"
    },
    {
     "data": {
      "text/plain": [
       "12×12 Matrix{Float64}:\n",
       "  30000.0  0.0  -30000.0       0.0  …       0.0       0.0       0.0  0.0\n",
       "      0.0  0.0       0.0       0.0          0.0       0.0       0.0  0.0\n",
       " -30000.0  0.0   30000.0       0.0          0.0       0.0       0.0  0.0\n",
       "      0.0  0.0       0.0   45000.0          0.0       0.0       0.0  0.0\n",
       "      0.0  0.0       0.0       0.0     -25920.0   34560.0  -60000.0  0.0\n",
       "      0.0  0.0       0.0  -45000.0  …   34560.0  -46080.0       0.0  0.0\n",
       "      0.0  0.0       0.0       0.0     -25920.0  -34560.0       0.0  0.0\n",
       "      0.0  0.0       0.0       0.0     -34560.0  -46080.0       0.0  0.0\n",
       "      0.0  0.0       0.0       0.0      51840.0       0.0       0.0  0.0\n",
       "      0.0  0.0       0.0       0.0          0.0   92160.0       0.0  0.0\n",
       "      0.0  0.0       0.0       0.0  …       0.0       0.0   60000.0  0.0\n",
       "      0.0  0.0       0.0       0.0          0.0       0.0       0.0  0.0"
      ]
     },
     "metadata": {},
     "output_type": "display_data"
    },
    {
     "data": {
      "text/plain": [
       "7"
      ]
     },
     "metadata": {},
     "output_type": "display_data"
    },
    {
     "data": {
      "text/plain": [
       "4×4 Matrix{Float64}:\n",
       "  25920.0   34560.0  -25920.0  -34560.0\n",
       "  34560.0   46080.0  -34560.0  -46080.0\n",
       " -25920.0  -34560.0   25920.0   34560.0\n",
       " -34560.0  -46080.0   34560.0   46080.0"
      ]
     },
     "metadata": {},
     "output_type": "display_data"
    },
    {
     "data": {
      "text/plain": [
       "12×12 Matrix{Float64}:\n",
       "  30000.0  0.0  -30000.0       0.0       0.0  …       0.0       0.0       0.0\n",
       "      0.0  0.0       0.0       0.0       0.0          0.0       0.0       0.0\n",
       " -30000.0  0.0   30000.0       0.0       0.0          0.0       0.0       0.0\n",
       "      0.0  0.0       0.0   45000.0       0.0          0.0       0.0       0.0\n",
       "      0.0  0.0       0.0       0.0   85920.0      34560.0  -60000.0       0.0\n",
       "      0.0  0.0       0.0  -45000.0  -34560.0  …  -46080.0       0.0       0.0\n",
       "      0.0  0.0       0.0       0.0       0.0     -34560.0       0.0       0.0\n",
       "      0.0  0.0       0.0       0.0       0.0     -46080.0       0.0       0.0\n",
       "      0.0  0.0       0.0       0.0  -25920.0      34560.0  -25920.0  -34560.0\n",
       "      0.0  0.0       0.0       0.0   34560.0     138240.0  -34560.0  -46080.0\n",
       "      0.0  0.0       0.0       0.0  -60000.0  …  -34560.0   85920.0   34560.0\n",
       "      0.0  0.0       0.0       0.0       0.0     -46080.0   34560.0   46080.0"
      ]
     },
     "metadata": {},
     "output_type": "display_data"
    },
    {
     "data": {
      "text/plain": [
       "8"
      ]
     },
     "metadata": {},
     "output_type": "display_data"
    },
    {
     "data": {
      "text/plain": [
       "4×4 Matrix{Float64}:\n",
       "  12960.0  -17280.0  -12960.0   17280.0\n",
       " -17280.0   23040.0   17280.0  -23040.0\n",
       " -12960.0   17280.0   12960.0  -17280.0\n",
       "  17280.0  -23040.0  -17280.0   23040.0"
      ]
     },
     "metadata": {},
     "output_type": "display_data"
    },
    {
     "data": {
      "text/plain": [
       "12×12 Matrix{Float64}:\n",
       "  30000.0  0.0  -30000.0       0.0       0.0  …       0.0       0.0       0.0\n",
       "      0.0  0.0       0.0       0.0       0.0          0.0       0.0       0.0\n",
       " -30000.0  0.0   42960.0  -17280.0       0.0          0.0  -12960.0   17280.0\n",
       "      0.0  0.0  -17280.0   68040.0       0.0          0.0   17280.0  -23040.0\n",
       "      0.0  0.0       0.0       0.0   85920.0      34560.0  -60000.0       0.0\n",
       "      0.0  0.0       0.0  -45000.0  -34560.0  …  -46080.0       0.0       0.0\n",
       "      0.0  0.0       0.0       0.0       0.0     -34560.0       0.0       0.0\n",
       "      0.0  0.0       0.0       0.0       0.0     -46080.0       0.0       0.0\n",
       "      0.0  0.0       0.0       0.0  -25920.0      34560.0  -25920.0  -34560.0\n",
       "      0.0  0.0       0.0       0.0   34560.0     138240.0  -34560.0  -46080.0\n",
       "      0.0  0.0  -12960.0   17280.0  -60000.0  …  -34560.0   98880.0   17280.0\n",
       "      0.0  0.0   17280.0  -23040.0       0.0     -46080.0   17280.0   69120.0"
      ]
     },
     "metadata": {},
     "output_type": "display_data"
    },
    {
     "data": {
      "text/plain": [
       "9"
      ]
     },
     "metadata": {},
     "output_type": "display_data"
    },
    {
     "data": {
      "text/plain": [
       "4×4 Matrix{Float64}:\n",
       "  12960.0   17280.0  -12960.0  -17280.0\n",
       "  17280.0   23040.0  -17280.0  -23040.0\n",
       " -12960.0  -17280.0   12960.0   17280.0\n",
       " -17280.0  -23040.0   17280.0   23040.0"
      ]
     },
     "metadata": {},
     "output_type": "display_data"
    },
    {
     "data": {
      "text/plain": [
       "12×12 Matrix{Float64}:\n",
       "  42960.0   17280.0  -30000.0       0.0  …       0.0  -12960.0  -17280.0\n",
       "  17280.0   23040.0       0.0       0.0          0.0  -17280.0  -23040.0\n",
       " -30000.0       0.0   42960.0  -17280.0          0.0  -12960.0   17280.0\n",
       "      0.0       0.0  -17280.0   68040.0          0.0   17280.0  -23040.0\n",
       "      0.0       0.0       0.0       0.0      34560.0  -60000.0       0.0\n",
       "      0.0       0.0       0.0  -45000.0  …  -46080.0       0.0       0.0\n",
       "      0.0       0.0       0.0       0.0     -34560.0       0.0       0.0\n",
       "      0.0       0.0       0.0       0.0     -46080.0       0.0       0.0\n",
       "      0.0       0.0       0.0       0.0      34560.0  -25920.0  -34560.0\n",
       "      0.0       0.0       0.0       0.0     138240.0  -34560.0  -46080.0\n",
       " -12960.0  -17280.0  -12960.0   17280.0  …  -34560.0  111840.0   34560.0\n",
       " -17280.0  -23040.0   17280.0  -23040.0     -46080.0   34560.0   92160.0"
      ]
     },
     "metadata": {},
     "output_type": "display_data"
    }
   ],
   "source": [
    "#Element Stiffness Calculations\n",
    "#KS : Element stiffness matrix (Global)\n",
    "KS = zeros(un*size(Node,1),un*size(Node,1));\n",
    "\n",
    "for i=1:size(EL,1)\n",
    "    ni=EL[i,2];     #i node\n",
    "    nj=EL[i,3];     #j node\n",
    "    xi=Node[ni,2];  #i node coordinate (x)\n",
    "    yi=Node[ni,3];  #i node coordinate (y)\n",
    "    xj=Node[nj,2];  #j node coordinate (x)\n",
    "    yj=Node[nj,3];  #j node coordinate (y)\n",
    "\n",
    "    #DOF Indexing\n",
    "    iND=[un*ni .- Array((un-1):-1:0);un*nj .- Array((un-1):-1:0)];\n",
    "    L=((xj-xi)^2+(yj-yi)^2)^(0.5); #Element's length by pythagorean\n",
    "    c=(xj-xi)/L; #Cosine of element\n",
    "    s=(yj-yi)/L; #Sine of element\n",
    "    \n",
    "    Elementnumber=i\n",
    "    A=Ael[i,2]\n",
    "    ktruss = TrussStiffness(E,A,L,c,s)\n",
    "\n",
    "    display(Elementnumber)         #Note: Erase # to show each element's stiffness\n",
    "    display(ktruss)                #Note: Erase # to show each element's stiffness\n",
    "    #KS : Global structure's stiffness\n",
    "    KS[iND,iND] = KS[iND,iND] + ktruss;\n",
    "    display(KS)\n",
    "end"
   ]
  },
  {
   "cell_type": "code",
   "execution_count": 5,
   "metadata": {},
   "outputs": [],
   "source": [
    "#Load Calculations\n",
    "FN = zeros(un*size(Node,1),1);\n",
    "forces=zeros(un*size(Node,1),1); # Beban nodal global \n",
    " for i=1:size(fp,1)\n",
    "     Ifx=Int64(2*fp[i,1]-1); #d.k gaya arah gaya fx\n",
    "     Ify=Int64(2*fp[i,1]); #d.k gaya arah gaya fy\n",
    "     \n",
    "\n",
    "     forces[Ifx]=fp[i,2]; #fx\n",
    "     forces[Ify]=fp[i,3]; #fy\n",
    " end\n",
    " \n",
    "FN=forces; #penjumlahan nodal"
   ]
  },
  {
   "cell_type": "code",
   "execution_count": 6,
   "metadata": {},
   "outputs": [],
   "source": [
    "#Boundary Condition\n",
    "#Pkg.add(\"InvertedIndices\")                        #Note: Erase the \"#\" if error shows up\n",
    "using InvertedIndices\n",
    "nDS = transpose((un*Rest[:,1]*transpose(ones(un,1)))-(ones(size(Rest,1))*transpose(Array(un-1:-1:0)))); #nDS : dk yang terdapat di boundary condition\n",
    "iDS = nDS[transpose(isone.(Rest[:,2:end]))]; #iDS : d.k terkekang #Logical indexing\n",
    "iDS = Int64.(iDS) #Convert Float to Int64\n",
    "iDE = Array(1:un*size(Node,1))[Not(iDS)];#iDE : d.k tidak terkekang"
   ]
  },
  {
   "cell_type": "code",
   "execution_count": 16,
   "metadata": {},
   "outputs": [
    {
     "data": {
      "text/plain": [
       "8×8 Matrix{Float64}:\n",
       "  85920.0  -34560.0       0.0       0.0  …   34560.0  -60000.0       0.0\n",
       " -34560.0  136080.0       0.0  -45000.0     -46080.0       0.0       0.0\n",
       "      0.0       0.0   25920.0   34560.0     -34560.0       0.0       0.0\n",
       "      0.0  -45000.0   34560.0   91080.0     -46080.0       0.0       0.0\n",
       " -25920.0   34560.0  -25920.0  -34560.0      34560.0  -25920.0  -34560.0\n",
       "  34560.0  -46080.0  -34560.0  -46080.0  …  138240.0  -34560.0  -46080.0\n",
       " -60000.0       0.0       0.0       0.0     -34560.0  111840.0   34560.0\n",
       "      0.0       0.0       0.0       0.0     -46080.0   34560.0   92160.0"
      ]
     },
     "metadata": {},
     "output_type": "display_data"
    },
    {
     "data": {
      "text/plain": [
       "8-element Vector{Float64}:\n",
       "   0.0\n",
       "   0.0\n",
       " 100.0\n",
       "   0.0\n",
       " 100.0\n",
       "   0.0\n",
       " 100.0\n",
       "   0.0"
      ]
     },
     "metadata": {},
     "output_type": "display_data"
    }
   ],
   "source": [
    "#Load processing\n",
    "KSr  = KS[iDE,iDE]; #KS : kekakuan struktur yg tereduksi \n",
    "Fn = FN[iDE];  # Fn : Gaya luar yg tereduksi\n",
    "DS=KSr\\Fn;# Un : displasemen tidak sama dengan nol\n",
    "\n",
    "display(KSr)\n",
    "display(Fn)"
   ]
  },
  {
   "cell_type": "code",
   "execution_count": 8,
   "metadata": {},
   "outputs": [
    {
     "name": "stdout",
     "output_type": "stream",
     "text": [
      "┌──────┬─────────────────────────────┬───────────────────────────┐\n",
      "│\u001b[1m Node \u001b[0m│\u001b[1m Horizontal Displacement (m) \u001b[0m│\u001b[1m Vertical Displacement (m) \u001b[0m│\n",
      "├──────┼─────────────────────────────┼───────────────────────────┤\n",
      "│    1 │                         0.0 │                       0.0 │\n",
      "│    2 │                         0.0 │                       0.0 │\n",
      "│    3 │                   0.0124074 │               -0.00444444 │\n",
      "│    4 │                   0.0368827 │               -0.00740741 │\n",
      "│    5 │                   0.0217052 │                0.00108218 │\n",
      "│    6 │                   0.0115741 │                0.00434028 │\n",
      "└──────┴─────────────────────────────┴───────────────────────────┘\n"
     ]
    }
   ],
   "source": [
    "#Displacements\n",
    "#Pkg.add(\"DataFrames\")                #Note: Erase the \"#\" if error shows up\n",
    "#Pkg.add(\"PrettyTables\")              #Note: Erase the \"#\" if error shows up\n",
    "using DataFrames, PrettyTables\n",
    "DSA = zeros(un*size(Node,1),1);\n",
    "DSA[iDE,1]=DS;\n",
    "Displacement = transpose(reshape(DSA,un,:))\n",
    "DisplacementDataFrame=DataFrame([1:size(Node,1), Displacement[:,1], Displacement[:,2]],[\"Node\",\"Horizontal Displacement (m)\", \"Vertical Displacement (m)\"])\n",
    "pretty_table(DisplacementDataFrame,nosubheader=true)"
   ]
  },
  {
   "cell_type": "code",
   "execution_count": 9,
   "metadata": {},
   "outputs": [
    {
     "name": "stdout",
     "output_type": "stream",
     "text": [
      "┌──────┬─────────┬─────────┐\n",
      "│\u001b[1m Node \u001b[0m│\u001b[1m FX (kN) \u001b[0m│\u001b[1m FY (kN) \u001b[0m│\n",
      "├──────┼─────────┼─────────┤\n",
      "│    1 │  -225.0 │  -300.0 │\n",
      "│    2 │   -75.0 │   300.0 │\n",
      "│    3 │     0.0 │     0.0 │\n",
      "│    4 │     0.0 │     0.0 │\n",
      "│    5 │     0.0 │     0.0 │\n",
      "│    6 │     0.0 │     0.0 │\n",
      "└──────┴─────────┴─────────┘\n"
     ]
    }
   ],
   "source": [
    "#Reactions\n",
    "RP = KS[iDS,iDE]*DS-FN[iDS];\n",
    "Reaction = zeros(un*size(Node,1),1);\n",
    "Reaction[iDS] = Reaction[iDS] + RP\n",
    "Reactions = transpose(reshape(Reaction,un,:))\n",
    "ReactionsDataFrame=DataFrame([1:size(Node,1), Reactions[:,1], Reactions[:,2]],[\"Node\",\"FX (kN)\", \"FY (kN)\"])\n",
    "pretty_table(ReactionsDataFrame,nosubheader=true)"
   ]
  },
  {
   "cell_type": "code",
   "execution_count": 10,
   "metadata": {},
   "outputs": [
    {
     "name": "stdout",
     "output_type": "stream",
     "text": [
      "┌────────┬─────────────────┐\n",
      "│\u001b[1m Member \u001b[0m│\u001b[1m Axial Load (kN) \u001b[0m│\n",
      "├────────┼─────────────────┤\n",
      "│      1 │             0.0 │\n",
      "│      2 │          -200.0 │\n",
      "│      3 │        -133.333 │\n",
      "│      4 │         166.667 │\n",
      "│      5 │        -83.3333 │\n",
      "│      6 │            50.0 │\n",
      "│      7 │           250.0 │\n",
      "│      8 │          -125.0 │\n",
      "│      9 │           375.0 │\n",
      "└────────┴─────────────────┘\n"
     ]
    }
   ],
   "source": [
    "#Internal Forces (Member's end forces)\n",
    "#Pkg.add(\"LinearAlgebra\")             #Note: Erase the \"#\" if error shows up\n",
    "using LinearAlgebra\n",
    "Axial = zeros(size(EL,1),1);\n",
    "for i=1:size(EL,1)\n",
    "    ni=EL[i,2];#aw : nodal awal elemen\n",
    "    nj=EL[i,3];#ak : nodal akhir elemen\n",
    "    xi=Node[ni,2];#xi : koordinat nodal awal\n",
    "    yi=Node[ni,3];#yi : koordinat nodal awal\n",
    "    xj=Node[nj,2];#xj : koordinat nodal akhir\n",
    "    yj=Node[nj,3];#yj : koordinat nodal awal\n",
    "    \n",
    "    #Derajat kebebasan pada nodal - nodal awal dan akhir\n",
    "    iND=[un*ni .- Array((un-1):-1:0);un*nj .- Array((un-1):-1:0)];\n",
    "    \n",
    "    L=((xj-xi)^2+(yj-yi)^2)^(0.5); #panjang elemen\n",
    "    c=(xj-xi)/L; #cosinus\n",
    "    s=(yj-yi)/L; #sinus\n",
    "\n",
    "    A=Ael[i,2]\n",
    "    Axial[i] = (E*A/L) * [-c -s c s]⋅DSA[iND]+ Axial[i];\n",
    "end\n",
    "AxialLoadDataFrame=DataFrame([1:size(EL,1), Axial[:,1]],[\"Member\",\"Axial Load (kN)\"])\n",
    "pretty_table(AxialLoadDataFrame,nosubheader=true)"
   ]
  }
 ],
 "metadata": {
  "kernelspec": {
   "display_name": "Julia 1.6.2",
   "language": "julia",
   "name": "julia-1.6"
  },
  "language_info": {
   "file_extension": ".jl",
   "mimetype": "application/julia",
   "name": "julia",
   "version": "1.6.2"
  },
  "orig_nbformat": 4
 },
 "nbformat": 4,
 "nbformat_minor": 2
}
